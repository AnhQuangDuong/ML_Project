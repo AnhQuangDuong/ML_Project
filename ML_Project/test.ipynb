{
 "cells": [
  {
   "cell_type": "code",
   "execution_count": 1,
   "metadata": {},
   "outputs": [],
   "source": [
    "import numpy as np\n",
    "import pandas as pd\n",
    "import matplotlib.pyplot as plt\n",
    "import seaborn as sns"
   ]
  },
  {
   "cell_type": "code",
   "execution_count": 2,
   "metadata": {},
   "outputs": [],
   "source": [
    "sns.set_theme()"
   ]
  },
  {
   "cell_type": "code",
   "execution_count": 3,
   "metadata": {},
   "outputs": [],
   "source": [
    "import re\n",
    "def get_re_group(r, txt):\n",
    "    match = re.search(r, txt)\n",
    "\n",
    "    if match:\n",
    "        return float(match.groups()[0])\n",
    "    else:\n",
    "        return np.nan"
   ]
  },
  {
   "cell_type": "code",
   "execution_count": 4,
   "metadata": {},
   "outputs": [],
   "source": [
    "train_df = pd.read_csv(\"train.csv\", index_col=\"id\")\n",
    "test_df = pd.read_csv(\"test.csv\", index_col=\"id\")"
   ]
  },
  {
   "cell_type": "markdown",
   "metadata": {},
   "source": [
    "## 1. Data Insight"
   ]
  },
  {
   "cell_type": "code",
   "execution_count": 5,
   "metadata": {},
   "outputs": [
    {
     "data": {
      "text/html": [
       "<div>\n",
       "<style scoped>\n",
       "    .dataframe tbody tr th:only-of-type {\n",
       "        vertical-align: middle;\n",
       "    }\n",
       "\n",
       "    .dataframe tbody tr th {\n",
       "        vertical-align: top;\n",
       "    }\n",
       "\n",
       "    .dataframe thead th {\n",
       "        text-align: right;\n",
       "    }\n",
       "</style>\n",
       "<table border=\"1\" class=\"dataframe\">\n",
       "  <thead>\n",
       "    <tr style=\"text-align: right;\">\n",
       "      <th></th>\n",
       "      <th>brand</th>\n",
       "      <th>model</th>\n",
       "      <th>model_year</th>\n",
       "      <th>milage</th>\n",
       "      <th>fuel_type</th>\n",
       "      <th>engine</th>\n",
       "      <th>transmission</th>\n",
       "      <th>ext_col</th>\n",
       "      <th>int_col</th>\n",
       "      <th>accident</th>\n",
       "      <th>clean_title</th>\n",
       "      <th>price</th>\n",
       "    </tr>\n",
       "    <tr>\n",
       "      <th>id</th>\n",
       "      <th></th>\n",
       "      <th></th>\n",
       "      <th></th>\n",
       "      <th></th>\n",
       "      <th></th>\n",
       "      <th></th>\n",
       "      <th></th>\n",
       "      <th></th>\n",
       "      <th></th>\n",
       "      <th></th>\n",
       "      <th></th>\n",
       "      <th></th>\n",
       "    </tr>\n",
       "  </thead>\n",
       "  <tbody>\n",
       "    <tr>\n",
       "      <th>0</th>\n",
       "      <td>MINI</td>\n",
       "      <td>Cooper S Base</td>\n",
       "      <td>2007</td>\n",
       "      <td>213000</td>\n",
       "      <td>Gasoline</td>\n",
       "      <td>172.0HP 1.6L 4 Cylinder Engine Gasoline Fuel</td>\n",
       "      <td>A/T</td>\n",
       "      <td>Yellow</td>\n",
       "      <td>Gray</td>\n",
       "      <td>None reported</td>\n",
       "      <td>Yes</td>\n",
       "      <td>4200</td>\n",
       "    </tr>\n",
       "    <tr>\n",
       "      <th>1</th>\n",
       "      <td>Lincoln</td>\n",
       "      <td>LS V8</td>\n",
       "      <td>2002</td>\n",
       "      <td>143250</td>\n",
       "      <td>Gasoline</td>\n",
       "      <td>252.0HP 3.9L 8 Cylinder Engine Gasoline Fuel</td>\n",
       "      <td>A/T</td>\n",
       "      <td>Silver</td>\n",
       "      <td>Beige</td>\n",
       "      <td>At least 1 accident or damage reported</td>\n",
       "      <td>Yes</td>\n",
       "      <td>4999</td>\n",
       "    </tr>\n",
       "    <tr>\n",
       "      <th>2</th>\n",
       "      <td>Chevrolet</td>\n",
       "      <td>Silverado 2500 LT</td>\n",
       "      <td>2002</td>\n",
       "      <td>136731</td>\n",
       "      <td>E85 Flex Fuel</td>\n",
       "      <td>320.0HP 5.3L 8 Cylinder Engine Flex Fuel Capab...</td>\n",
       "      <td>A/T</td>\n",
       "      <td>Blue</td>\n",
       "      <td>Gray</td>\n",
       "      <td>None reported</td>\n",
       "      <td>Yes</td>\n",
       "      <td>13900</td>\n",
       "    </tr>\n",
       "    <tr>\n",
       "      <th>3</th>\n",
       "      <td>Genesis</td>\n",
       "      <td>G90 5.0 Ultimate</td>\n",
       "      <td>2017</td>\n",
       "      <td>19500</td>\n",
       "      <td>Gasoline</td>\n",
       "      <td>420.0HP 5.0L 8 Cylinder Engine Gasoline Fuel</td>\n",
       "      <td>Transmission w/Dual Shift Mode</td>\n",
       "      <td>Black</td>\n",
       "      <td>Black</td>\n",
       "      <td>None reported</td>\n",
       "      <td>Yes</td>\n",
       "      <td>45000</td>\n",
       "    </tr>\n",
       "    <tr>\n",
       "      <th>4</th>\n",
       "      <td>Mercedes-Benz</td>\n",
       "      <td>Metris Base</td>\n",
       "      <td>2021</td>\n",
       "      <td>7388</td>\n",
       "      <td>Gasoline</td>\n",
       "      <td>208.0HP 2.0L 4 Cylinder Engine Gasoline Fuel</td>\n",
       "      <td>7-Speed A/T</td>\n",
       "      <td>Black</td>\n",
       "      <td>Beige</td>\n",
       "      <td>None reported</td>\n",
       "      <td>Yes</td>\n",
       "      <td>97500</td>\n",
       "    </tr>\n",
       "  </tbody>\n",
       "</table>\n",
       "</div>"
      ],
      "text/plain": [
       "            brand              model  model_year  milage      fuel_type  \\\n",
       "id                                                                        \n",
       "0            MINI      Cooper S Base        2007  213000       Gasoline   \n",
       "1         Lincoln              LS V8        2002  143250       Gasoline   \n",
       "2       Chevrolet  Silverado 2500 LT        2002  136731  E85 Flex Fuel   \n",
       "3         Genesis   G90 5.0 Ultimate        2017   19500       Gasoline   \n",
       "4   Mercedes-Benz        Metris Base        2021    7388       Gasoline   \n",
       "\n",
       "                                               engine  \\\n",
       "id                                                      \n",
       "0        172.0HP 1.6L 4 Cylinder Engine Gasoline Fuel   \n",
       "1        252.0HP 3.9L 8 Cylinder Engine Gasoline Fuel   \n",
       "2   320.0HP 5.3L 8 Cylinder Engine Flex Fuel Capab...   \n",
       "3        420.0HP 5.0L 8 Cylinder Engine Gasoline Fuel   \n",
       "4        208.0HP 2.0L 4 Cylinder Engine Gasoline Fuel   \n",
       "\n",
       "                      transmission ext_col int_col  \\\n",
       "id                                                   \n",
       "0                              A/T  Yellow    Gray   \n",
       "1                              A/T  Silver   Beige   \n",
       "2                              A/T    Blue    Gray   \n",
       "3   Transmission w/Dual Shift Mode   Black   Black   \n",
       "4                      7-Speed A/T   Black   Beige   \n",
       "\n",
       "                                  accident clean_title  price  \n",
       "id                                                             \n",
       "0                            None reported         Yes   4200  \n",
       "1   At least 1 accident or damage reported         Yes   4999  \n",
       "2                            None reported         Yes  13900  \n",
       "3                            None reported         Yes  45000  \n",
       "4                            None reported         Yes  97500  "
      ]
     },
     "execution_count": 5,
     "metadata": {},
     "output_type": "execute_result"
    }
   ],
   "source": [
    "train_df.head()"
   ]
  },
  {
   "cell_type": "code",
   "execution_count": 6,
   "metadata": {},
   "outputs": [
    {
     "name": "stdout",
     "output_type": "stream",
     "text": [
      "<class 'pandas.core.frame.DataFrame'>\n",
      "Index: 188533 entries, 0 to 188532\n",
      "Data columns (total 12 columns):\n",
      " #   Column        Non-Null Count   Dtype \n",
      "---  ------        --------------   ----- \n",
      " 0   brand         188533 non-null  object\n",
      " 1   model         188533 non-null  object\n",
      " 2   model_year    188533 non-null  int64 \n",
      " 3   milage        188533 non-null  int64 \n",
      " 4   fuel_type     183450 non-null  object\n",
      " 5   engine        188533 non-null  object\n",
      " 6   transmission  188533 non-null  object\n",
      " 7   ext_col       188533 non-null  object\n",
      " 8   int_col       188533 non-null  object\n",
      " 9   accident      186081 non-null  object\n",
      " 10  clean_title   167114 non-null  object\n",
      " 11  price         188533 non-null  int64 \n",
      "dtypes: int64(3), object(9)\n",
      "memory usage: 18.7+ MB\n"
     ]
    }
   ],
   "source": [
    "train_df.info()"
   ]
  },
  {
   "cell_type": "markdown",
   "metadata": {},
   "source": [
    "### Giải thích ý nghĩa các trường:\n",
    "1. `brand` & `model`: Identify the brand or company name along with the specific model of each vehicle.\n",
    "2. `model_year`: Discover the manufacturing year of the vehicles, crucial for assessing depreciation and technology advancements.\n",
    "3. `mileage`: Obtain the mileage of each vehicle, a key indicator of wear and tear and potential maintenance requirements.\n",
    "4. `fuel_type`: Learn about the type of fuel the vehicles run on, whether it's gasoline, diesel, electric, or hybrid.\n",
    "5. `engine`: Understand the engine specifications, shedding light on performance and efficiency.\n",
    "6. `transmission`: Car’s gearbox.\n",
    "7. `ext_col` & `int_col`: Explore the aesthetic aspects of the vehicles, including exterior and interior color options.\n",
    "8. `accident`: Discover whether a vehicle has a prior history of accidents or damage, crucial for informed decision-making.\n",
    "9. `clean_title`:  It indicates that the car has not had any major incidents that would significantly impact its structural or operational integrity.\n",
    "10. `price`: Access the listed prices for each vehicle, aiding in price comparison and budgeting."
   ]
  },
  {
   "cell_type": "code",
   "execution_count": 7,
   "metadata": {},
   "outputs": [
    {
     "name": "stdout",
     "output_type": "stream",
     "text": [
      "Numerical Feature:  ['model_year' 'milage' 'price']\n"
     ]
    },
    {
     "data": {
      "text/html": [
       "<div>\n",
       "<style scoped>\n",
       "    .dataframe tbody tr th:only-of-type {\n",
       "        vertical-align: middle;\n",
       "    }\n",
       "\n",
       "    .dataframe tbody tr th {\n",
       "        vertical-align: top;\n",
       "    }\n",
       "\n",
       "    .dataframe thead th {\n",
       "        text-align: right;\n",
       "    }\n",
       "</style>\n",
       "<table border=\"1\" class=\"dataframe\">\n",
       "  <thead>\n",
       "    <tr style=\"text-align: right;\">\n",
       "      <th></th>\n",
       "      <th>count</th>\n",
       "      <th>mean</th>\n",
       "      <th>std</th>\n",
       "      <th>min</th>\n",
       "      <th>25%</th>\n",
       "      <th>50%</th>\n",
       "      <th>75%</th>\n",
       "      <th>max</th>\n",
       "    </tr>\n",
       "  </thead>\n",
       "  <tbody>\n",
       "    <tr>\n",
       "      <th>model_year</th>\n",
       "      <td>188533.0</td>\n",
       "      <td>2015.829998</td>\n",
       "      <td>5.660967</td>\n",
       "      <td>1974.0</td>\n",
       "      <td>2013.0</td>\n",
       "      <td>2017.0</td>\n",
       "      <td>2020.0</td>\n",
       "      <td>2024.0</td>\n",
       "    </tr>\n",
       "    <tr>\n",
       "      <th>milage</th>\n",
       "      <td>188533.0</td>\n",
       "      <td>65705.295174</td>\n",
       "      <td>49798.158076</td>\n",
       "      <td>100.0</td>\n",
       "      <td>24115.0</td>\n",
       "      <td>57785.0</td>\n",
       "      <td>95400.0</td>\n",
       "      <td>405000.0</td>\n",
       "    </tr>\n",
       "    <tr>\n",
       "      <th>price</th>\n",
       "      <td>188533.0</td>\n",
       "      <td>43878.016178</td>\n",
       "      <td>78819.522254</td>\n",
       "      <td>2000.0</td>\n",
       "      <td>17000.0</td>\n",
       "      <td>30825.0</td>\n",
       "      <td>49900.0</td>\n",
       "      <td>2954083.0</td>\n",
       "    </tr>\n",
       "  </tbody>\n",
       "</table>\n",
       "</div>"
      ],
      "text/plain": [
       "               count          mean           std     min      25%      50%  \\\n",
       "model_year  188533.0   2015.829998      5.660967  1974.0   2013.0   2017.0   \n",
       "milage      188533.0  65705.295174  49798.158076   100.0  24115.0  57785.0   \n",
       "price       188533.0  43878.016178  78819.522254  2000.0  17000.0  30825.0   \n",
       "\n",
       "                75%        max  \n",
       "model_year   2020.0     2024.0  \n",
       "milage      95400.0   405000.0  \n",
       "price       49900.0  2954083.0  "
      ]
     },
     "execution_count": 7,
     "metadata": {},
     "output_type": "execute_result"
    }
   ],
   "source": [
    "numerical_features = train_df.select_dtypes(np.number).columns.values\n",
    "\n",
    "print(\"Numerical Feature: \", numerical_features)\n",
    "train_df[numerical_features].describe().T"
   ]
  },
  {
   "cell_type": "code",
   "execution_count": 8,
   "metadata": {},
   "outputs": [
    {
     "name": "stdout",
     "output_type": "stream",
     "text": [
      "Categorical Feature:  ['brand' 'model' 'fuel_type' 'engine' 'transmission' 'ext_col' 'int_col'\n",
      " 'accident' 'clean_title']\n"
     ]
    },
    {
     "data": {
      "text/html": [
       "<div>\n",
       "<style scoped>\n",
       "    .dataframe tbody tr th:only-of-type {\n",
       "        vertical-align: middle;\n",
       "    }\n",
       "\n",
       "    .dataframe tbody tr th {\n",
       "        vertical-align: top;\n",
       "    }\n",
       "\n",
       "    .dataframe thead th {\n",
       "        text-align: right;\n",
       "    }\n",
       "</style>\n",
       "<table border=\"1\" class=\"dataframe\">\n",
       "  <thead>\n",
       "    <tr style=\"text-align: right;\">\n",
       "      <th></th>\n",
       "      <th>count</th>\n",
       "      <th>unique</th>\n",
       "      <th>top</th>\n",
       "      <th>freq</th>\n",
       "    </tr>\n",
       "  </thead>\n",
       "  <tbody>\n",
       "    <tr>\n",
       "      <th>brand</th>\n",
       "      <td>188533</td>\n",
       "      <td>57</td>\n",
       "      <td>Ford</td>\n",
       "      <td>23088</td>\n",
       "    </tr>\n",
       "    <tr>\n",
       "      <th>model</th>\n",
       "      <td>188533</td>\n",
       "      <td>1897</td>\n",
       "      <td>F-150 XLT</td>\n",
       "      <td>2945</td>\n",
       "    </tr>\n",
       "    <tr>\n",
       "      <th>fuel_type</th>\n",
       "      <td>183450</td>\n",
       "      <td>7</td>\n",
       "      <td>Gasoline</td>\n",
       "      <td>165940</td>\n",
       "    </tr>\n",
       "    <tr>\n",
       "      <th>engine</th>\n",
       "      <td>188533</td>\n",
       "      <td>1117</td>\n",
       "      <td>355.0HP 5.3L 8 Cylinder Engine Gasoline Fuel</td>\n",
       "      <td>3462</td>\n",
       "    </tr>\n",
       "    <tr>\n",
       "      <th>transmission</th>\n",
       "      <td>188533</td>\n",
       "      <td>52</td>\n",
       "      <td>A/T</td>\n",
       "      <td>49904</td>\n",
       "    </tr>\n",
       "    <tr>\n",
       "      <th>ext_col</th>\n",
       "      <td>188533</td>\n",
       "      <td>319</td>\n",
       "      <td>Black</td>\n",
       "      <td>48658</td>\n",
       "    </tr>\n",
       "    <tr>\n",
       "      <th>int_col</th>\n",
       "      <td>188533</td>\n",
       "      <td>156</td>\n",
       "      <td>Black</td>\n",
       "      <td>107674</td>\n",
       "    </tr>\n",
       "    <tr>\n",
       "      <th>accident</th>\n",
       "      <td>186081</td>\n",
       "      <td>2</td>\n",
       "      <td>None reported</td>\n",
       "      <td>144514</td>\n",
       "    </tr>\n",
       "    <tr>\n",
       "      <th>clean_title</th>\n",
       "      <td>167114</td>\n",
       "      <td>1</td>\n",
       "      <td>Yes</td>\n",
       "      <td>167114</td>\n",
       "    </tr>\n",
       "  </tbody>\n",
       "</table>\n",
       "</div>"
      ],
      "text/plain": [
       "               count unique                                           top  \\\n",
       "brand         188533     57                                          Ford   \n",
       "model         188533   1897                                     F-150 XLT   \n",
       "fuel_type     183450      7                                      Gasoline   \n",
       "engine        188533   1117  355.0HP 5.3L 8 Cylinder Engine Gasoline Fuel   \n",
       "transmission  188533     52                                           A/T   \n",
       "ext_col       188533    319                                         Black   \n",
       "int_col       188533    156                                         Black   \n",
       "accident      186081      2                                 None reported   \n",
       "clean_title   167114      1                                           Yes   \n",
       "\n",
       "                freq  \n",
       "brand          23088  \n",
       "model           2945  \n",
       "fuel_type     165940  \n",
       "engine          3462  \n",
       "transmission   49904  \n",
       "ext_col        48658  \n",
       "int_col       107674  \n",
       "accident      144514  \n",
       "clean_title   167114  "
      ]
     },
     "execution_count": 8,
     "metadata": {},
     "output_type": "execute_result"
    }
   ],
   "source": [
    "categorical_feature = train_df.select_dtypes(exclude=np.number).columns.values\n",
    "\n",
    "print(\"Categorical Feature: \", categorical_feature)\n",
    "train_df[categorical_feature].describe().T"
   ]
  },
  {
   "cell_type": "markdown",
   "metadata": {},
   "source": [
    "## 2. Data Engineering\n",
    "### 2.1. `engine`"
   ]
  },
  {
   "cell_type": "code",
   "execution_count": 9,
   "metadata": {},
   "outputs": [
    {
     "data": {
      "text/plain": [
       "engine\n",
       "355.0HP 5.3L 8 Cylinder Engine Gasoline Fuel           3462\n",
       "240.0HP 2.0L 4 Cylinder Engine Gasoline Fuel           2902\n",
       "420.0HP 6.2L 8 Cylinder Engine Gasoline Fuel           2841\n",
       "2.0L I4 16V GDI DOHC Turbo                             2680\n",
       "375.0HP 3.5L V6 Cylinder Engine Gasoline Fuel          2451\n",
       "                                                       ... \n",
       "78.0HP 1.2L 3 Cylinder Engine Gasoline Fuel               1\n",
       "139.0HP 1.6L 4 Cylinder Engine Plug-In Electric/Gas       1\n",
       "151.0HP 1.5L 4 Cylinder Engine Gas/Electric Hybrid        1\n",
       "184.0HP 2.4L 4 Cylinder Engine Flex Fuel Capability       1\n",
       "313.0HP 2.0L 4 Cylinder Engine Plug-In Electric/Gas       1\n",
       "Name: count, Length: 1117, dtype: int64"
      ]
     },
     "execution_count": 9,
     "metadata": {},
     "output_type": "execute_result"
    }
   ],
   "source": [
    "train_df[\"engine\"].value_counts()"
   ]
  },
  {
   "cell_type": "markdown",
   "metadata": {},
   "source": [
    "Ý tưởng: Chia `engine` ra thành `horse_power`, `engine_size`, `cylinder`"
   ]
  },
  {
   "cell_type": "code",
   "execution_count": 10,
   "metadata": {},
   "outputs": [],
   "source": [
    "train_df['horse_power'] = train_df['engine'].apply(lambda en: get_re_group(r'(\\d+\\.\\d+)HP', en))\n",
    "train_df['engine_size'] = train_df['engine'].apply(lambda en: get_re_group(r'(\\d+\\.\\d+)L', en))\n",
    "train_df['cylinder'] = train_df['engine'].apply(lambda en: get_re_group(r'(\\d+) Cylinder', en))"
   ]
  },
  {
   "cell_type": "code",
   "execution_count": 11,
   "metadata": {},
   "outputs": [
    {
     "data": {
      "text/html": [
       "<div>\n",
       "<style scoped>\n",
       "    .dataframe tbody tr th:only-of-type {\n",
       "        vertical-align: middle;\n",
       "    }\n",
       "\n",
       "    .dataframe tbody tr th {\n",
       "        vertical-align: top;\n",
       "    }\n",
       "\n",
       "    .dataframe thead th {\n",
       "        text-align: right;\n",
       "    }\n",
       "</style>\n",
       "<table border=\"1\" class=\"dataframe\">\n",
       "  <thead>\n",
       "    <tr style=\"text-align: right;\">\n",
       "      <th></th>\n",
       "      <th>horse_power</th>\n",
       "      <th>engine_size</th>\n",
       "      <th>cylinder</th>\n",
       "    </tr>\n",
       "    <tr>\n",
       "      <th>id</th>\n",
       "      <th></th>\n",
       "      <th></th>\n",
       "      <th></th>\n",
       "    </tr>\n",
       "  </thead>\n",
       "  <tbody>\n",
       "    <tr>\n",
       "      <th>0</th>\n",
       "      <td>172.0</td>\n",
       "      <td>1.6</td>\n",
       "      <td>4.0</td>\n",
       "    </tr>\n",
       "    <tr>\n",
       "      <th>1</th>\n",
       "      <td>252.0</td>\n",
       "      <td>3.9</td>\n",
       "      <td>8.0</td>\n",
       "    </tr>\n",
       "    <tr>\n",
       "      <th>2</th>\n",
       "      <td>320.0</td>\n",
       "      <td>5.3</td>\n",
       "      <td>8.0</td>\n",
       "    </tr>\n",
       "    <tr>\n",
       "      <th>3</th>\n",
       "      <td>420.0</td>\n",
       "      <td>5.0</td>\n",
       "      <td>8.0</td>\n",
       "    </tr>\n",
       "    <tr>\n",
       "      <th>4</th>\n",
       "      <td>208.0</td>\n",
       "      <td>2.0</td>\n",
       "      <td>4.0</td>\n",
       "    </tr>\n",
       "    <tr>\n",
       "      <th>...</th>\n",
       "      <td>...</td>\n",
       "      <td>...</td>\n",
       "      <td>...</td>\n",
       "    </tr>\n",
       "    <tr>\n",
       "      <th>188528</th>\n",
       "      <td>420.0</td>\n",
       "      <td>6.2</td>\n",
       "      <td>8.0</td>\n",
       "    </tr>\n",
       "    <tr>\n",
       "      <th>188529</th>\n",
       "      <td>385.0</td>\n",
       "      <td>3.0</td>\n",
       "      <td>6.0</td>\n",
       "    </tr>\n",
       "    <tr>\n",
       "      <th>188530</th>\n",
       "      <td>469.0</td>\n",
       "      <td>4.0</td>\n",
       "      <td>8.0</td>\n",
       "    </tr>\n",
       "    <tr>\n",
       "      <th>188531</th>\n",
       "      <td>NaN</td>\n",
       "      <td>3.0</td>\n",
       "      <td>NaN</td>\n",
       "    </tr>\n",
       "    <tr>\n",
       "      <th>188532</th>\n",
       "      <td>252.0</td>\n",
       "      <td>2.0</td>\n",
       "      <td>4.0</td>\n",
       "    </tr>\n",
       "  </tbody>\n",
       "</table>\n",
       "<p>188533 rows × 3 columns</p>\n",
       "</div>"
      ],
      "text/plain": [
       "        horse_power  engine_size  cylinder\n",
       "id                                        \n",
       "0             172.0          1.6       4.0\n",
       "1             252.0          3.9       8.0\n",
       "2             320.0          5.3       8.0\n",
       "3             420.0          5.0       8.0\n",
       "4             208.0          2.0       4.0\n",
       "...             ...          ...       ...\n",
       "188528        420.0          6.2       8.0\n",
       "188529        385.0          3.0       6.0\n",
       "188530        469.0          4.0       8.0\n",
       "188531          NaN          3.0       NaN\n",
       "188532        252.0          2.0       4.0\n",
       "\n",
       "[188533 rows x 3 columns]"
      ]
     },
     "execution_count": 11,
     "metadata": {},
     "output_type": "execute_result"
    }
   ],
   "source": [
    "train_df[['horse_power', 'engine_size', 'cylinder']]"
   ]
  },
  {
   "cell_type": "markdown",
   "metadata": {},
   "source": [
    "### 2.2. `fuel_type`"
   ]
  },
  {
   "cell_type": "code",
   "execution_count": 12,
   "metadata": {},
   "outputs": [
    {
     "data": {
      "text/plain": [
       "fuel_type\n",
       "Gasoline          165940\n",
       "Hybrid              6832\n",
       "E85 Flex Fuel       5406\n",
       "Diesel              3955\n",
       "–                    781\n",
       "Plug-In Hybrid       521\n",
       "not supported         15\n",
       "Name: count, dtype: int64"
      ]
     },
     "execution_count": 12,
     "metadata": {},
     "output_type": "execute_result"
    }
   ],
   "source": [
    "train_df['fuel_type'].value_counts()"
   ]
  },
  {
   "cell_type": "code",
   "execution_count": 13,
   "metadata": {},
   "outputs": [
    {
     "data": {
      "image/png": "[encoded data removed]",
      "text/plain": [
       "<Figure size 640x480 with 1 Axes>"
      ]
     },
     "metadata": {},
     "output_type": "display_data"
    }
   ],
   "source": [
    "sns.barplot(data=train_df, x='fuel_type', y='price', estimator=np.mean);\n",
    "plt.xticks(rotation=45)  # Adjust the degree of rotation as needed\n",
    "plt.tight_layout()  # Adjust layout to prevent label overlap\n",
    "plt.show()"
   ]
  },
  {
   "cell_type": "code",
   "execution_count": 14,
   "metadata": {},
   "outputs": [],
   "source": [
    "def determine_fuel_type(engine):\n",
    "    if pd.isna(engine):\n",
    "        return None\n",
    "    if re.search(r'Electric|Battery|kW|charge|kw', engine, re.IGNORECASE):\n",
    "        return 'Electric'\n",
    "    if re.search(r'Diesel', engine, re.IGNORECASE):\n",
    "        return 'Diesel'\n",
    "    if re.search(r'Flex Fuel|E85', engine, re.IGNORECASE):\n",
    "        return 'E85 Flex Fuel'\n",
    "    if re.search(r'Gasoline|Standard|Turbo|Liter|GDI|MPFI|PDI', engine, re.IGNORECASE):\n",
    "        return 'Gasoline'\n",
    "    return None\n",
    "\n",
    "def handle_some_missing_fuel_type(data):\n",
    "    mask = ((data['fuel_type'] != 'Diesel') & (data['fuel_type'] != 'Electric') & (data['fuel_type'] != 'E85 Flex Fuel') & \n",
    "            (data['fuel_type'] != 'Gasoline') & (data['fuel_type'] != 'Hybrid') & (data['fuel_type'] != 'Plug-In Hybrid'))\n",
    "    data.loc[mask, 'fuel_type'] = data.loc[mask, 'engine'].apply(determine_fuel_type)\n",
    "    return data"
   ]
  },
  {
   "cell_type": "code",
   "execution_count": 15,
   "metadata": {},
   "outputs": [
    {
     "data": {
      "text/plain": [
       "fuel_type\n",
       "Gasoline          166136\n",
       "Hybrid              6832\n",
       "E85 Flex Fuel       5408\n",
       "Electric            4905\n",
       "Diesel              3957\n",
       "Plug-In Hybrid       521\n",
       "Name: count, dtype: int64"
      ]
     },
     "execution_count": 15,
     "metadata": {},
     "output_type": "execute_result"
    }
   ],
   "source": [
    "train_df = handle_some_missing_fuel_type(train_df)\n",
    "train_df['fuel_type'].value_counts()"
   ]
  },
  {
   "cell_type": "markdown",
   "metadata": {},
   "source": [
    "### 2.3. `transmission`"
   ]
  },
  {
   "cell_type": "code",
   "execution_count": 16,
   "metadata": {},
   "outputs": [
    {
     "data": {
      "text/plain": [
       "transmission\n",
       "A/T                                                   49904\n",
       "8-Speed A/T                                           20645\n",
       "Transmission w/Dual Shift Mode                        19255\n",
       "6-Speed A/T                                           18044\n",
       "6-Speed M/T                                           11998\n",
       "7-Speed A/T                                           11124\n",
       "Automatic                                             10691\n",
       "8-Speed Automatic                                      8431\n",
       "10-Speed A/T                                           8044\n",
       "9-Speed A/T                                            3866\n",
       "5-Speed A/T                                            3217\n",
       "10-Speed Automatic                                     3164\n",
       "6-Speed Automatic                                      2799\n",
       "4-Speed A/T                                            2546\n",
       "5-Speed M/T                                            2409\n",
       "9-Speed Automatic                                      2325\n",
       "CVT Transmission                                       1990\n",
       "1-Speed A/T                                            1869\n",
       "M/T                                                    1179\n",
       "7-Speed Automatic with Auto-Shift                      1172\n",
       "Automatic CVT                                           829\n",
       "8-Speed Automatic with Auto-Shift                       549\n",
       "1-Speed Automatic                                       365\n",
       "7-Speed M/T                                             355\n",
       "6-Speed Manual                                          211\n",
       "7-Speed Automatic                                       178\n",
       "5-Speed Automatic                                       159\n",
       "Transmission Overdrive Switch                           156\n",
       "7-Speed Manual                                          151\n",
       "6-Speed Automatic with Auto-Shift                       111\n",
       "2                                                        91\n",
       "–                                                        87\n",
       "2-Speed A/T                                              71\n",
       "Variable                                                 66\n",
       "F                                                        65\n",
       "4-Speed Automatic                                        48\n",
       "10-Speed Automatic with Overdrive                        40\n",
       "6 Speed Mt                                               37\n",
       "9-Speed Automatic with Auto-Shift                        33\n",
       "6-Speed Electronically Controlled Automatic with O       31\n",
       "7-Speed                                                  29\n",
       "8-Speed Manual                                           28\n",
       "6-Speed                                                  27\n",
       "Manual                                                   27\n",
       "2-Speed Automatic                                        22\n",
       "6 Speed At/Mt                                            20\n",
       "7-Speed DCT Automatic                                    18\n",
       "Single-Speed Fixed Gear                                  16\n",
       "CVT-F                                                    15\n",
       "8-SPEED AT                                               13\n",
       "8-SPEED A/T                                               7\n",
       "SCHEDULED FOR OR IN PRODUCTION                            6\n",
       "Name: count, dtype: int64"
      ]
     },
     "execution_count": 16,
     "metadata": {},
     "output_type": "execute_result"
    }
   ],
   "source": [
    "train_df['transmission'].value_counts()"
   ]
  },
  {
   "cell_type": "markdown",
   "metadata": {},
   "source": [
    "Ý tưởng: Chia `transmission` ra thành `transmission_speed` và `transmission_type`.<br>\n",
    "Trong đó, `transmission_type` gồm các giá trị:\n",
    "- `A/T` (Automatic Transmission)\n",
    "- `M/T` (Manual Transmission)\n",
    "- `CVT` (Continuously Variable Transmission)\n",
    "- `DCT` (Dual-Clutch Transmission)\n",
    "- `Fixed Gear` (Single-Speed Fixed Gear)\n",
    "- `Electronically Controlled` (Electronically Controlled Automatic)\n",
    "- `Auto-Shift` (Automatic with Auto-Shift)\n",
    "- `Overdrive` (Transmission with Overdrive Switch)"
   ]
  },
  {
   "cell_type": "code",
   "execution_count": 17,
   "metadata": {},
   "outputs": [],
   "source": [
    "train_df['transmission_speed'] = train_df['transmission'].apply(lambda trans: get_re_group(r'(\\d+)', trans))"
   ]
  },
  {
   "cell_type": "code",
   "execution_count": 18,
   "metadata": {},
   "outputs": [
    {
     "data": {
      "text/plain": [
       "transmission_speed\n",
       "6.0     33278\n",
       "8.0     29673\n",
       "7.0     13027\n",
       "10.0    11248\n",
       "9.0      6224\n",
       "5.0      5785\n",
       "4.0      2594\n",
       "1.0      2234\n",
       "2.0       184\n",
       "Name: count, dtype: int64"
      ]
     },
     "execution_count": 18,
     "metadata": {},
     "output_type": "execute_result"
    }
   ],
   "source": [
    "train_df['transmission_speed'].value_counts()"
   ]
  },
  {
   "cell_type": "code",
   "execution_count": 19,
   "metadata": {},
   "outputs": [],
   "source": [
    "train_df['transmission_type'] = np.nan\n",
    "train_df['transmission_type'] = train_df['transmission_type'].astype('object')\n",
    "train_df.loc[train_df['transmission'].str.contains(r'Manual|MT|M/T', na=False, case=False), 'transmission_type'] = 'M/T'\n",
    "train_df.loc[train_df['transmission'].str.contains(r'A/T|Automatic|AT', na=False, case=False), 'transmission_type'] = 'A/T'\n",
    "train_df.loc[train_df['transmission'].str.contains(r'CVT|Variable', na=False, case=False), 'transmission_type'] = 'CVT'\n",
    "train_df.loc[train_df['transmission'].str.contains(r'DCT|Dual Shift Mode', na=False, case=False), 'transmission_type'] = 'DCT'\n",
    "train_df.loc[train_df['transmission'].str.contains(r'Fixed Gear', na=False, case=False), 'transmission_type'] = 'Fixed Gear'\n",
    "train_df.loc[train_df['transmission'].str.contains(r'Electronically Controlled Automatic', na=False, case=False), 'transmission_type'] = 'Electronically Controlled'\n",
    "train_df.loc[train_df['transmission'].str.contains(r'Auto-Shift|AT/MT', na=False, case=False), 'transmission_type'] = 'Auto-Shift'\n",
    "train_df.loc[train_df['transmission'].str.contains(r'Overdrive', na=False, case=False), 'transmission_type'] = 'Overdrive'"
   ]
  },
  {
   "cell_type": "code",
   "execution_count": 20,
   "metadata": {},
   "outputs": [
    {
     "data": {
      "text/plain": [
       "transmission_type\n",
       "A/T                          147532\n",
       "DCT                           19273\n",
       "M/T                           16395\n",
       "CVT                            2900\n",
       "Auto-Shift                     1885\n",
       "Overdrive                       196\n",
       "Electronically Controlled        31\n",
       "Fixed Gear                       16\n",
       "Name: count, dtype: int64"
      ]
     },
     "execution_count": 20,
     "metadata": {},
     "output_type": "execute_result"
    }
   ],
   "source": [
    "train_df['transmission_type'].value_counts()"
   ]
  },
  {
   "cell_type": "code",
   "execution_count": 21,
   "metadata": {},
   "outputs": [
    {
     "data": {
      "image/png": "[encoded data removed]",
      "text/plain": [
       "<Figure size 640x480 with 1 Axes>"
      ]
     },
     "metadata": {},
     "output_type": "display_data"
    }
   ],
   "source": [
    "sns.barplot(data=train_df, x='transmission_type', y='price', estimator=np.mean)\n",
    "plt.xticks(rotation=45)  # Adjust the degree of rotation as needed\n",
    "plt.tight_layout()  # Adjust layout to prevent label overlap\n",
    "plt.show()"
   ]
  },
  {
   "cell_type": "markdown",
   "metadata": {},
   "source": [
    "### 2.4. `model_year` & `mileage`\n",
    "Chuyển `model_year` và `milage` thành `car_age` và `yearly_mileage`"
   ]
  },
  {
   "cell_type": "code",
   "execution_count": 22,
   "metadata": {},
   "outputs": [],
   "source": [
    "import datetime\n",
    "train_df['car_age'] = datetime.datetime.now().year - train_df['model_year']\n",
    "train_df.loc[train_df['car_age'] == 0, 'car_age'] = 1\n",
    "train_df['yearly_mileage'] = train_df['milage'] / train_df['car_age']"
   ]
  },
  {
   "cell_type": "markdown",
   "metadata": {},
   "source": [
    "### 2.5. `model`\n",
    "Chuyển `model` thành `model_class` bao gồm các giá trị:\n",
    "- `Base`\n",
    "- `Mid-Range`\n",
    "- `Performance/Sport`\n",
    "- `Luxury`"
   ]
  },
  {
   "cell_type": "code",
   "execution_count": 23,
   "metadata": {},
   "outputs": [
    {
     "data": {
      "text/plain": [
       "model\n",
       "F-150 XLT                        2945\n",
       "M3 Base                          2229\n",
       "Camaro 2SS                       1709\n",
       "M4 Base                          1622\n",
       "Mustang GT Premium               1526\n",
       "                                 ... \n",
       "ForTwo Pure                         2\n",
       "XLR Base                            1\n",
       "X5 3.0i                             1\n",
       "X5 xDrive40e                        1\n",
       "Integra w/A-Spec Tech Package       1\n",
       "Name: count, Length: 1897, dtype: int64"
      ]
     },
     "execution_count": 23,
     "metadata": {},
     "output_type": "execute_result"
    }
   ],
   "source": [
    "train_df['model'].value_counts()"
   ]
  },
  {
   "cell_type": "code",
   "execution_count": 24,
   "metadata": {},
   "outputs": [],
   "source": [
    "train_df['model_class'] = np.nan\n",
    "train_df['model_class'] = train_df['model_class'].astype('object')\n",
    "train_df.loc[train_df['model'].str.contains('S|L|Base', na=False, case=False), 'model_class'] = 'Base'\n",
    "train_df.loc[train_df['model'].str.contains('SE|SX|SRT|GT', na=False, case=False), 'model_class'] = 'Mid-Range'\n",
    "train_df.loc[train_df['model'].str.contains('EX|SXT', na=False, case=False), 'model_class'] = 'Performance/Sport'\n",
    "train_df.loc[train_df['model'].str.contains('EX-L|LX|LE|SEL|Platinum|Premium|Limited', na=False, case=False), 'model_class'] = 'Luxury'"
   ]
  },
  {
   "cell_type": "code",
   "execution_count": 47,
   "metadata": {},
   "outputs": [
    {
     "data": {
      "image/png": "[encoded data removed]",
      "text/plain": [
       "<Figure size 640x480 with 1 Axes>"
      ]
     },
     "metadata": {},
     "output_type": "display_data"
    }
   ],
   "source": [
    "sns.barplot(data=train_df, x='model_class', y='price', estimator=np.mean);"
   ]
  },
  {
   "cell_type": "markdown",
   "metadata": {},
   "source": [
    "`Luxury` rẻ hơn `Base`?\n",
    "### 2.6 `brand`\n",
    "Chia các `brand` thành các loại:\n",
    "- `Luxury`\n",
    "- `Premium`\n",
    "- `Mainstream`\n",
    "- `Economy`\n",
    "- `Supercar`"
   ]
  },
  {
   "cell_type": "code",
   "execution_count": 26,
   "metadata": {},
   "outputs": [],
   "source": [
    "luxury_brands = 'Mercedes-Benz|BMW|Audi|Porsche|Lexus|Cadillac|Jaguar|Bentley|Maserati|Lamborghini|Rolls-Royce|Ferrari|McLaren|Aston|Martin|Lucid|Lotus|Karma|Bugatti|Maybach'\n",
    "premium_brands = 'Acura|Infiniti|Genesis|Volvo|Lincoln|Land|Rover'\n",
    "mainstream_brands = 'Ford|Chevrolet|Toyota|Jeep|RAM|Nissan|Tesla|GMC|Dodge|Mazda|Kia|Subaru|Honda|Hyundai|Volkswagen|Buick|Chrysler|Mitsubishi|Polestar|Rivian'\n",
    "economy_brands = 'MINI|Fiat|Saab|Suzuki|smart'\n",
    "supercar_brands = 'Lamborghini|Ferrari|McLaren|Bugatti'\n",
    "\n",
    "train_df['brand_cat'] = np.nan\n",
    "train_df['brand_cat'] = train_df['brand_cat'].astype('object')\n",
    "train_df.loc[train_df['brand'].str.contains(luxury_brands, na=False, case=False), 'brand_cat'] = 'Luxury'\n",
    "train_df.loc[train_df['brand'].str.contains(premium_brands, na=False, case=False), 'brand_cat'] = 'Premium'\n",
    "train_df.loc[train_df['brand'].str.contains(mainstream_brands, na=False, case=False), 'brand_cat'] = 'Mainstream'\n",
    "train_df.loc[train_df['brand'].str.contains(economy_brands, na=False, case=False), 'brand_cat'] = 'Economy'\n",
    "train_df.loc[train_df['brand'].str.contains(supercar_brands, na=False, case=False), 'brand_cat'] = 'Supercars'"
   ]
  },
  {
   "cell_type": "code",
   "execution_count": 27,
   "metadata": {},
   "outputs": [
    {
     "data": {
      "image/png": "[encoded data removed]",
      "text/plain": [
       "<Figure size 640x480 with 1 Axes>"
      ]
     },
     "metadata": {},
     "output_type": "display_data"
    }
   ],
   "source": [
    "sns.barplot(data=train_df, x='brand_cat', y='price', estimator=np.mean);"
   ]
  },
  {
   "cell_type": "markdown",
   "metadata": {},
   "source": [
    "### 2.7. `int_col` & `ext_col`"
   ]
  },
  {
   "cell_type": "code",
   "execution_count": 28,
   "metadata": {},
   "outputs": [
    {
     "data": {
      "text/html": [
       "<div>\n",
       "<style scoped>\n",
       "    .dataframe tbody tr th:only-of-type {\n",
       "        vertical-align: middle;\n",
       "    }\n",
       "\n",
       "    .dataframe tbody tr th {\n",
       "        vertical-align: top;\n",
       "    }\n",
       "\n",
       "    .dataframe thead th {\n",
       "        text-align: right;\n",
       "    }\n",
       "</style>\n",
       "<table border=\"1\" class=\"dataframe\">\n",
       "  <thead>\n",
       "    <tr style=\"text-align: right;\">\n",
       "      <th></th>\n",
       "      <th>int_col</th>\n",
       "      <th>ext_col</th>\n",
       "      <th>price</th>\n",
       "    </tr>\n",
       "    <tr>\n",
       "      <th>id</th>\n",
       "      <th></th>\n",
       "      <th></th>\n",
       "      <th></th>\n",
       "    </tr>\n",
       "  </thead>\n",
       "  <tbody>\n",
       "    <tr>\n",
       "      <th>14693</th>\n",
       "      <td>Black</td>\n",
       "      <td>Black</td>\n",
       "      <td>2954083</td>\n",
       "    </tr>\n",
       "    <tr>\n",
       "      <th>1880</th>\n",
       "      <td>Beige</td>\n",
       "      <td>Beige</td>\n",
       "      <td>2954083</td>\n",
       "    </tr>\n",
       "    <tr>\n",
       "      <th>65043</th>\n",
       "      <td>Black</td>\n",
       "      <td>Gray</td>\n",
       "      <td>2954083</td>\n",
       "    </tr>\n",
       "    <tr>\n",
       "      <th>103061</th>\n",
       "      <td>Diesel Gray / Black</td>\n",
       "      <td>Diamond Black</td>\n",
       "      <td>2954083</td>\n",
       "    </tr>\n",
       "    <tr>\n",
       "      <th>59650</th>\n",
       "      <td>Black</td>\n",
       "      <td>Ruby Flare Pearl</td>\n",
       "      <td>2954083</td>\n",
       "    </tr>\n",
       "    <tr>\n",
       "      <th>72448</th>\n",
       "      <td>Black</td>\n",
       "      <td>Red</td>\n",
       "      <td>2954083</td>\n",
       "    </tr>\n",
       "    <tr>\n",
       "      <th>103189</th>\n",
       "      <td>Gray</td>\n",
       "      <td>Red</td>\n",
       "      <td>2954083</td>\n",
       "    </tr>\n",
       "    <tr>\n",
       "      <th>80269</th>\n",
       "      <td>Black</td>\n",
       "      <td>Red</td>\n",
       "      <td>2954083</td>\n",
       "    </tr>\n",
       "    <tr>\n",
       "      <th>119162</th>\n",
       "      <td>Black</td>\n",
       "      <td>Oxford White</td>\n",
       "      <td>2954083</td>\n",
       "    </tr>\n",
       "    <tr>\n",
       "      <th>172766</th>\n",
       "      <td>Black</td>\n",
       "      <td>Silver</td>\n",
       "      <td>2954083</td>\n",
       "    </tr>\n",
       "    <tr>\n",
       "      <th>163487</th>\n",
       "      <td>Black</td>\n",
       "      <td>Gray</td>\n",
       "      <td>2954083</td>\n",
       "    </tr>\n",
       "    <tr>\n",
       "      <th>118167</th>\n",
       "      <td>Red</td>\n",
       "      <td>White</td>\n",
       "      <td>2954083</td>\n",
       "    </tr>\n",
       "    <tr>\n",
       "      <th>36615</th>\n",
       "      <td>Gold</td>\n",
       "      <td>Gold</td>\n",
       "      <td>2954083</td>\n",
       "    </tr>\n",
       "    <tr>\n",
       "      <th>81056</th>\n",
       "      <td>Medium Dark Slate</td>\n",
       "      <td>Black</td>\n",
       "      <td>2954083</td>\n",
       "    </tr>\n",
       "    <tr>\n",
       "      <th>16034</th>\n",
       "      <td>Beige</td>\n",
       "      <td>White</td>\n",
       "      <td>2954083</td>\n",
       "    </tr>\n",
       "    <tr>\n",
       "      <th>99283</th>\n",
       "      <td>White</td>\n",
       "      <td>White</td>\n",
       "      <td>2954083</td>\n",
       "    </tr>\n",
       "    <tr>\n",
       "      <th>79269</th>\n",
       "      <td>Medium Earth Gray</td>\n",
       "      <td>Blue</td>\n",
       "      <td>2954083</td>\n",
       "    </tr>\n",
       "    <tr>\n",
       "      <th>181021</th>\n",
       "      <td>Beige</td>\n",
       "      <td>Green</td>\n",
       "      <td>2954083</td>\n",
       "    </tr>\n",
       "    <tr>\n",
       "      <th>128002</th>\n",
       "      <td>Black</td>\n",
       "      <td>Black</td>\n",
       "      <td>2954083</td>\n",
       "    </tr>\n",
       "    <tr>\n",
       "      <th>96473</th>\n",
       "      <td>Camel Leather</td>\n",
       "      <td>Oxford White</td>\n",
       "      <td>2954083</td>\n",
       "    </tr>\n",
       "  </tbody>\n",
       "</table>\n",
       "</div>"
      ],
      "text/plain": [
       "                    int_col           ext_col    price\n",
       "id                                                    \n",
       "14693                 Black             Black  2954083\n",
       "1880                  Beige             Beige  2954083\n",
       "65043                 Black              Gray  2954083\n",
       "103061  Diesel Gray / Black     Diamond Black  2954083\n",
       "59650                 Black  Ruby Flare Pearl  2954083\n",
       "72448                 Black               Red  2954083\n",
       "103189                 Gray               Red  2954083\n",
       "80269                 Black               Red  2954083\n",
       "119162                Black      Oxford White  2954083\n",
       "172766                Black            Silver  2954083\n",
       "163487                Black              Gray  2954083\n",
       "118167                  Red             White  2954083\n",
       "36615                  Gold              Gold  2954083\n",
       "81056     Medium Dark Slate             Black  2954083\n",
       "16034                 Beige             White  2954083\n",
       "99283                 White             White  2954083\n",
       "79269     Medium Earth Gray              Blue  2954083\n",
       "181021                Beige             Green  2954083\n",
       "128002                Black             Black  2954083\n",
       "96473         Camel Leather      Oxford White  2954083"
      ]
     },
     "execution_count": 28,
     "metadata": {},
     "output_type": "execute_result"
    }
   ],
   "source": [
    "train_df.sort_values(by=['price'], ascending=False).head(20)[['int_col', 'ext_col', 'price']]"
   ]
  },
  {
   "cell_type": "markdown",
   "metadata": {},
   "source": [
    "Phần này khó phân loại vì màu được đặt cho rất nhiều tên\n",
    "- Ý tưởng 1: Phân loại theo màu cơ bản\n",
    "- Ý tưởng 2: Phân ra thành `neutral` và `brighter`"
   ]
  },
  {
   "cell_type": "code",
   "execution_count": 29,
   "metadata": {},
   "outputs": [],
   "source": [
    "train_df['ext_col_cat'] = 'Other'\n",
    "train_df.loc[train_df['ext_col'].str.contains('Black|Midnight|Onyx|Graphite|Dark|Gray', na=False, case=False), 'ext_col_cat'] = 'Black/Gray'\n",
    "train_df.loc[train_df['ext_col'].str.contains('White|Pearl|Silver|Platinum|Metallic', na=False, case=False), 'ext_col_cat'] = 'White/Silver'\n",
    "train_df.loc[train_df['ext_col'].str.contains('Red|Ruby|Burgundy', na=False, case=False), 'ext_col_cat'] = 'Red/Maroon'\n",
    "train_df.loc[train_df['ext_col'].str.contains('Blue|Navy|Sky', na=False, case=False), 'ext_col_cat'] = 'Blue'\n",
    "train_df.loc[train_df['ext_col'].str.contains('Green|Forest', na=False, case=False), 'ext_col_cat'] = 'Green'\n",
    "train_df.loc[train_df['ext_col'].str.contains('Yellow|Gold|Mustard', na=False, case=False), 'ext_col_cat'] = 'Yellow/Gold'\n",
    "train_df.loc[train_df['ext_col'].str.contains('Brown|Bronze|Tan|Beige', na=False, case=False), 'ext_col_cat'] = 'Brown/Beige'\n",
    "train_df.loc[train_df['ext_col'].str.contains('Orange|opper', na=False, case=False), 'ext_col_cat'] = 'Orange'\n",
    "train_df.loc[train_df['ext_col'].str.contains('Purple|Lavender', na=False, case=False), 'ext_col_cat'] = 'Purple'\n",
    "\n",
    "train_df['int_col_cat'] = 'Other'\n",
    "train_df.loc[train_df['int_col'].str.contains('Black|Charcoal|Dark|Gray', na=False, case=False), 'int_col_cat'] = 'Black/Gray'\n",
    "train_df.loc[train_df['int_col'].str.contains('White|Ivory|Beige', na=False, case=False), 'int_col_cat'] = 'White/Beige'\n",
    "train_df.loc[train_df['int_col'].str.contains('Red|Burgundy', na=False, case=False), 'int_col_cat'] = 'Red/Maroon'\n",
    "train_df.loc[train_df['int_col'].str.contains('Blue|Navy', na=False, case=False), 'int_col_cat'] = 'Blue'\n",
    "train_df.loc[train_df['int_col'].str.contains('Brown|Tan', na=False, case=False), 'int_col_cat'] = 'Brown'"
   ]
  },
  {
   "cell_type": "code",
   "execution_count": 30,
   "metadata": {},
   "outputs": [
    {
     "data": {
      "image/png": "[encoded data removed]",
      "text/plain": [
       "<Figure size 1500x350 with 2 Axes>"
      ]
     },
     "metadata": {},
     "output_type": "display_data"
    }
   ],
   "source": [
    "fig, ax = plt.subplots(1, 2, figsize=(15, 3.5))\n",
    "\n",
    "# First subplot\n",
    "sns.barplot(data=train_df, x='ext_col_cat', y='price', estimator=np.mean, ax=ax[0])\n",
    "ax[0].tick_params(axis='x', rotation=45)  # Rotate x-axis labels for the first subplot\n",
    "\n",
    "# Second subplot\n",
    "sns.barplot(data=train_df, x='int_col_cat', y='price', estimator=np.mean, ax=ax[1])\n",
    "ax[1].tick_params(axis='x', rotation=45)  # Rotate x-axis labels for the second subplot\n",
    "\n",
    "plt.tight_layout()  # Adjust the layout to avoid overlapping\n",
    "plt.show()"
   ]
  },
  {
   "cell_type": "markdown",
   "metadata": {},
   "source": [
    "### 2.8. `accident` & `clean_title`"
   ]
  },
  {
   "cell_type": "code",
   "execution_count": 31,
   "metadata": {},
   "outputs": [
    {
     "data": {
      "text/plain": [
       "accident\n",
       "None reported                             144514\n",
       "At least 1 accident or damage reported     41567\n",
       "Name: count, dtype: int64"
      ]
     },
     "execution_count": 31,
     "metadata": {},
     "output_type": "execute_result"
    }
   ],
   "source": [
    "train_df['accident'].value_counts()"
   ]
  },
  {
   "cell_type": "code",
   "execution_count": 32,
   "metadata": {},
   "outputs": [
    {
     "data": {
      "text/plain": [
       "clean_title\n",
       "Yes    167114\n",
       "Name: count, dtype: int64"
      ]
     },
     "execution_count": 32,
     "metadata": {},
     "output_type": "execute_result"
    }
   ],
   "source": [
    "train_df['clean_title'].value_counts()"
   ]
  },
  {
   "cell_type": "markdown",
   "metadata": {},
   "source": [
    "Bỏ `clean_title` vì giá trị của nó không mang nhiều ý nghĩa"
   ]
  },
  {
   "cell_type": "code",
   "execution_count": 33,
   "metadata": {},
   "outputs": [],
   "source": [
    "damage_reported = train_df['accident'] == 'At least 1 accident or damage reported'\n",
    "train_df.loc[damage_reported, 'accident'] = 1\n",
    "train_df.loc[~damage_reported, 'accident'] = 0"
   ]
  },
  {
   "cell_type": "code",
   "execution_count": 34,
   "metadata": {},
   "outputs": [
    {
     "data": {
      "text/plain": [
       "<Axes: xlabel='accident', ylabel='price'>"
      ]
     },
     "execution_count": 34,
     "metadata": {},
     "output_type": "execute_result"
    },
    {
     "data": {
      "image/png": "[encoded data removed]",
      "text/plain": [
       "<Figure size 640x480 with 1 Axes>"
      ]
     },
     "metadata": {},
     "output_type": "display_data"
    }
   ],
   "source": [
    "sns.barplot(data=train_df, x='accident', y='price', estimator=np.mean)"
   ]
  },
  {
   "cell_type": "code",
   "execution_count": 35,
   "metadata": {},
   "outputs": [
    {
     "name": "stdout",
     "output_type": "stream",
     "text": [
      "<class 'pandas.core.frame.DataFrame'>\n",
      "Index: 188533 entries, 0 to 188532\n",
      "Data columns (total 23 columns):\n",
      " #   Column              Non-Null Count   Dtype  \n",
      "---  ------              --------------   -----  \n",
      " 0   brand               188533 non-null  object \n",
      " 1   model               188533 non-null  object \n",
      " 2   model_year          188533 non-null  int64  \n",
      " 3   milage              188533 non-null  int64  \n",
      " 4   fuel_type           187759 non-null  object \n",
      " 5   engine              188533 non-null  object \n",
      " 6   transmission        188533 non-null  object \n",
      " 7   ext_col             188533 non-null  object \n",
      " 8   int_col             188533 non-null  object \n",
      " 9   accident            188533 non-null  object \n",
      " 10  clean_title         167114 non-null  object \n",
      " 11  price               188533 non-null  int64  \n",
      " 12  horse_power         155274 non-null  float64\n",
      " 13  engine_size         174319 non-null  float64\n",
      " 14  cylinder            150678 non-null  float64\n",
      " 15  transmission_speed  104247 non-null  float64\n",
      " 16  transmission_type   188228 non-null  object \n",
      " 17  car_age             188533 non-null  int64  \n",
      " 18  yearly_mileage      188533 non-null  float64\n",
      " 19  model_class         166020 non-null  object \n",
      " 20  brand_cat           186461 non-null  object \n",
      " 21  ext_col_cat         188533 non-null  object \n",
      " 22  int_col_cat         188533 non-null  object \n",
      "dtypes: float64(5), int64(4), object(14)\n",
      "memory usage: 34.5+ MB\n"
     ]
    }
   ],
   "source": [
    "train_df.info()"
   ]
  },
  {
   "cell_type": "code",
   "execution_count": 36,
   "metadata": {},
   "outputs": [],
   "source": [
    "train_df = train_df.drop(['brand','model', 'model_year', 'engine', 'transmission', 'ext_col', 'int_col', 'clean_title'], axis=1)"
   ]
  },
  {
   "cell_type": "markdown",
   "metadata": {},
   "source": [
    "## 3. Fill missing data"
   ]
  },
  {
   "cell_type": "code",
   "execution_count": 37,
   "metadata": {},
   "outputs": [
    {
     "name": "stdout",
     "output_type": "stream",
     "text": [
      "Column milage has: 0.00% missing data\n",
      "Column fuel_type has: 0.41% missing data\n",
      "Column accident has: 0.00% missing data\n",
      "Column price has: 0.00% missing data\n",
      "Column horse_power has: 17.64% missing data\n",
      "Column engine_size has: 7.54% missing data\n",
      "Column cylinder has: 20.08% missing data\n",
      "Column transmission_speed has: 44.71% missing data\n",
      "Column transmission_type has: 0.16% missing data\n",
      "Column car_age has: 0.00% missing data\n",
      "Column yearly_mileage has: 0.00% missing data\n",
      "Column model_class has: 11.94% missing data\n",
      "Column brand_cat has: 1.10% missing data\n",
      "Column ext_col_cat has: 0.00% missing data\n",
      "Column int_col_cat has: 0.00% missing data\n"
     ]
    }
   ],
   "source": [
    "for col in train_df.columns:\n",
    "    missing_data = train_df[col].isna().sum()\n",
    "    missing_ratio = missing_data / len(train_df) *100\n",
    "\n",
    "    print(f\"Column {col} has: {missing_ratio:.2f}% missing data\")"
   ]
  },
  {
   "cell_type": "code",
   "execution_count": 38,
   "metadata": {},
   "outputs": [],
   "source": [
    "for col in ['horse_power', 'engine_size']:\n",
    "    mean = train_df[col].mean()\n",
    "    train_df.loc[train_df[col].isna(), col] = mean\n",
    "\n",
    "for col in ['cylinder', 'model_class', 'transmission_type', 'fuel_type', 'brand_cat']:\n",
    "    mode = train_df[col].mode().iloc[0]\n",
    "    train_df.loc[train_df[col].isna(), col] = mode"
   ]
  },
  {
   "cell_type": "markdown",
   "metadata": {},
   "source": [
    "Do `transmission_speed` có đến 45% missing data nên ta điền thêm dữ liệu cho nó dựa vào `transmission_type`"
   ]
  },
  {
   "cell_type": "code",
   "execution_count": 39,
   "metadata": {},
   "outputs": [
    {
     "data": {
      "text/plain": [
       "transmission_type\n",
       "A/T                           8.0\n",
       "Auto-Shift                    7.0\n",
       "CVT                           NaN\n",
       "DCT                           7.0\n",
       "Electronically Controlled     6.0\n",
       "Fixed Gear                    NaN\n",
       "M/T                           6.0\n",
       "Overdrive                    10.0\n",
       "Name: transmission_speed, dtype: float64"
      ]
     },
     "execution_count": 39,
     "metadata": {},
     "output_type": "execute_result"
    }
   ],
   "source": [
    "train_df.groupby(['transmission_type'])['transmission_speed'].median()"
   ]
  },
  {
   "cell_type": "code",
   "execution_count": 40,
   "metadata": {},
   "outputs": [],
   "source": [
    "speed_median = train_df['transmission_speed'].median()\n",
    "train_df.loc[train_df['transmission_type'] == 'CVT', 'transmission_speed'] = speed_median\n",
    "train_df.loc[train_df['transmission_type'] == 'Fixed Gear', 'transmission_speed'] = speed_median\n",
    "\n",
    "train_df['transmission_speed'] = train_df.groupby(['transmission_type'])['transmission_speed'].transform(lambda x : x.fillna(x.median()))"
   ]
  },
  {
   "cell_type": "code",
   "execution_count": 41,
   "metadata": {},
   "outputs": [
    {
     "data": {
      "text/plain": [
       "<Axes: xlabel='transmission_speed', ylabel='price'>"
      ]
     },
     "execution_count": 41,
     "metadata": {},
     "output_type": "execute_result"
    },
    {
     "data": {
      "image/png": "[encoded data removed]",
      "text/plain": [
       "<Figure size 640x480 with 1 Axes>"
      ]
     },
     "metadata": {},
     "output_type": "display_data"
    }
   ],
   "source": [
    "sns.barplot(data=train_df, x='transmission_speed', y='price', estimator=np.mean)"
   ]
  },
  {
   "cell_type": "markdown",
   "metadata": {},
   "source": [
    "## 4. EDA"
   ]
  },
  {
   "cell_type": "code",
   "execution_count": 42,
   "metadata": {},
   "outputs": [],
   "source": [
    "train_df['accident'] = train_df['accident'].astype(\"int\")"
   ]
  },
  {
   "cell_type": "code",
   "execution_count": 43,
   "metadata": {},
   "outputs": [],
   "source": [
    "train_df['milage_age'] = train_df['milage'] * train_df['car_age']\n",
    "train_df['milage_age_ratio'] = train_df['milage'] / train_df['car_age']\n",
    "train_df['mean_milage_with_age'] = train_df.groupby(['car_age'])['milage'].transform('mean')\n",
    "train_df['mean_milage_age_ratio_with_age'] = train_df.groupby(['car_age'])['milage_age_ratio'].transform('mean')"
   ]
  },
  {
   "cell_type": "code",
   "execution_count": 44,
   "metadata": {},
   "outputs": [
    {
     "data": {
      "text/plain": [
       "price                             1.000000\n",
       "horse_power                       0.214364\n",
       "mean_milage_age_ratio_with_age    0.148894\n",
       "engine_size                       0.094445\n",
       "cylinder                          0.087329\n",
       "transmission_speed                0.077056\n",
       "yearly_mileage                   -0.096186\n",
       "milage_age_ratio                 -0.096186\n",
       "accident                         -0.125122\n",
       "car_age                          -0.231777\n",
       "milage_age                       -0.238958\n",
       "mean_milage_with_age             -0.261521\n",
       "milage                           -0.283067\n",
       "Name: price, dtype: float64"
      ]
     },
     "execution_count": 44,
     "metadata": {},
     "output_type": "execute_result"
    }
   ],
   "source": [
    "corr_matrix = train_df.select_dtypes(exclude=\"object\").corr()\n",
    "corr_matrix['price'].sort_values(ascending=False)"
   ]
  }
 ],
 "metadata": {
  "kernelspec": {
   "display_name": "Python 3",
   "language": "python",
   "name": "python3"
  },
  "language_info": {
   "codemirror_mode": {
    "name": "ipython",
    "version": 3
   },
   "file_extension": ".py",
   "mimetype": "text/x-python",
   "name": "python",
   "nbconvert_exporter": "python",
   "pygments_lexer": "ipython3",
   "version": "3.12.6"
  }
 },
 "nbformat": 4,
 "nbformat_minor": 2
}
